{
 "cells": [
  {
   "cell_type": "markdown",
   "metadata": {},
   "source": [
    "# Selective Areas"
   ]
  },
  {
   "cell_type": "markdown",
   "metadata": {},
   "source": [
    "There are two useful sources of school based data routinely published by the DfE\n",
    "1. \"KS4_final\" This is based on GCSE results of the last cohort to leave school.\n",
    "   Due to COVID, the most recent is now from 2019.\n",
    "2. \"Schools Pupils & Characteristics\" (SPC). This is based on census data so still up to date. Latest is available:\n",
    "https://explore-education-statistics.service.gov.uk/find-statistics/school-pupils-and-their-characteristics\n",
    "The exact location may change so manual instructions are to follow the links download the full data (40MB zip file)\n",
    "extract this and set a path to the file\n",
    "~\\ancillary\\spc_school_level_underlying_data.csv\n",
    "\n",
    "Entire project is uploaded to https://github.com/jamescoombs3/grammars"
   ]
  },
  {
   "cell_type": "code",
   "execution_count": 1,
   "metadata": {},
   "outputs": [],
   "source": [
    "import pandas as pd\n",
    "import numpy as np"
   ]
  },
  {
   "cell_type": "code",
   "execution_count": 2,
   "metadata": {},
   "outputs": [],
   "source": [
    "# set variable to wherever the DfE data has been saved\n",
    "workdir = 'C:/_python/data/SPC/ancillary'\n",
    "datafile = workdir + '/spc_school_level_underlying_data.csv'"
   ]
  },
  {
   "cell_type": "code",
   "execution_count": 3,
   "metadata": {},
   "outputs": [],
   "source": [
    "# create a dictionary mapping DfE's headings of columns we want to keep against short names.\n",
    "columns = {\n",
    "    \"URN\": \"URN\",\n",
    "    \"LA name\": \"LA_name\",\n",
    "    \"School Name\": \"SchName\",\n",
    "    \"Sex of school description\": \"Sex\",\n",
    "    \"Phase-type grouping\": \"PhaseGroup\",\n",
    "    \"Admissions Policy\": \"AdmPolicy\",\n",
    "    \"District Administrative name\": \"District\",\n",
    "    \"Parl Con name\": \"Constituency\",\n",
    "    \"Urban rural\": \"Urban\",\n",
    "    \"School Postcode\": \"Postcode\",\n",
    "    \"Academy_flag\": \"Academy_flag\",\n",
    "    \"School size\": \"SchoolSize\",\n",
    "    \"Number of key stage 3 pupils (years 7 to 9)\": \"KS3\",\n",
    "    \"Number of key stage 4 pupils (years 10 and 11)\": \"KS4\",\n",
    "}"
   ]
  },
  {
   "cell_type": "code",
   "execution_count": 4,
   "metadata": {},
   "outputs": [],
   "source": [
    "# Read the wanted columns into dataframe\n",
    "spc = pd.read_csv(datafile, usecols=list(columns.keys()))\n",
    "# Rename the columns\n",
    "spc = spc.rename(columns=columns)"
   ]
  },
  {
   "cell_type": "code",
   "execution_count": 5,
   "metadata": {},
   "outputs": [],
   "source": [
    "# Select just state funded secondary schools (removes primary schools, private schools, pupil referral units etc.)\n",
    "spc = spc[spc['PhaseGroup'] == 'State-funded secondary']\n",
    "\n",
    "# Add values in KS3 + KS4 to get total secondary school pupils on roll\n",
    "spc['roll'] = spc['KS3'] + spc['KS4']"
   ]
  },
  {
   "cell_type": "code",
   "execution_count": 6,
   "metadata": {},
   "outputs": [],
   "source": [
    "# The data contains four admissions policy types'; 'Selective', 'Non-selective', 'Not applicable' and 'Unknown'\n",
    "# 'Selective' contains all 163 fully selective schools so the others are all non-selective.\n",
    "spc = spc.replace({'Not applicable': 'Non-selective', 'Unknown': 'Non-selective'})"
   ]
  },
  {
   "cell_type": "code",
   "execution_count": 7,
   "metadata": {},
   "outputs": [],
   "source": [
    "# Create two pivot tables to work out counts and proportions of grammar school places by\n",
    "# 1. LA_Name\n",
    "# 2. Constituency\n",
    "LA_pivot = pd.pivot_table(spc, values='roll', index='LA_name', columns = ['AdmPolicy'], aggfunc=np.sum)\n",
    "PC_pivot = pd.pivot_table(spc, values='roll', index='Constituency', columns = ['AdmPolicy'], aggfunc=np.sum)\n",
    "LA_pivot.reset_index(inplace=True)\n",
    "PC_pivot.reset_index(inplace=True)"
   ]
  },
  {
   "cell_type": "code",
   "execution_count": 8,
   "metadata": {},
   "outputs": [],
   "source": [
    "# By default, the values are all floating point. Change them to integers \n",
    "LA_pivot['Non-selective'] = LA_pivot['Non-selective'].astype(int)\n",
    "LA_pivot['Selective'] = LA_pivot['Selective'].fillna(0.0).astype(int)\n",
    "PC_pivot['Non-selective'] = PC_pivot['Non-selective'].astype(int)\n",
    "PC_pivot['Selective'] = PC_pivot['Selective'].fillna(0.0).astype(int)"
   ]
  },
  {
   "cell_type": "code",
   "execution_count": 9,
   "metadata": {},
   "outputs": [],
   "source": [
    "# Add columns containing the percent proportion of selective places \n",
    "LA_pivot['PCT_Sel'] = LA_pivot['Selective'] / (LA_pivot['Selective'] + LA_pivot['Non-selective']) * 100\n",
    "PC_pivot['PCT_Sel'] = PC_pivot['Selective'] / (PC_pivot['Selective'] + PC_pivot['Non-selective']) * 100"
   ]
  },
  {
   "cell_type": "code",
   "execution_count": 10,
   "metadata": {},
   "outputs": [],
   "source": [
    "# sort the tables by most selective \n",
    "LA_pivot = LA_pivot.sort_values(by=['PCT_Sel'], ascending=False)\n",
    "PC_pivot = PC_pivot.sort_values(by=['PCT_Sel'], ascending=False)"
   ]
  },
  {
   "cell_type": "code",
   "execution_count": 11,
   "metadata": {},
   "outputs": [
    {
     "data": {
      "text/html": [
       "<style  type=\"text/css\" >\n",
       "</style><table id=\"T_67f7547d_f35e_11eb_807c_708bcd596adf\" ><thead>    <tr>        <th class=\"col_heading level0 col0\" >LA_name</th>        <th class=\"col_heading level0 col1\" >Non-selective</th>        <th class=\"col_heading level0 col2\" >Selective</th>        <th class=\"col_heading level0 col3\" >PCT_Sel</th>    </tr></thead><tbody>\n",
       "                <tr>\n",
       "                                <td id=\"T_67f7547d_f35e_11eb_807c_708bcd596adfrow0_col0\" class=\"data row0 col0\" >Trafford</td>\n",
       "                        <td id=\"T_67f7547d_f35e_11eb_807c_708bcd596adfrow0_col1\" class=\"data row0 col1\" >10187</td>\n",
       "                        <td id=\"T_67f7547d_f35e_11eb_807c_708bcd596adfrow0_col2\" class=\"data row0 col2\" >6102</td>\n",
       "                        <td id=\"T_67f7547d_f35e_11eb_807c_708bcd596adfrow0_col3\" class=\"data row0 col3\" >37.460863</td>\n",
       "            </tr>\n",
       "            <tr>\n",
       "                                <td id=\"T_67f7547d_f35e_11eb_807c_708bcd596adfrow1_col0\" class=\"data row1 col0\" >Buckinghamshire</td>\n",
       "                        <td id=\"T_67f7547d_f35e_11eb_807c_708bcd596adfrow1_col1\" class=\"data row1 col1\" >19536</td>\n",
       "                        <td id=\"T_67f7547d_f35e_11eb_807c_708bcd596adfrow1_col2\" class=\"data row1 col2\" >11681</td>\n",
       "                        <td id=\"T_67f7547d_f35e_11eb_807c_708bcd596adfrow1_col3\" class=\"data row1 col3\" >37.418714</td>\n",
       "            </tr>\n",
       "            <tr>\n",
       "                                <td id=\"T_67f7547d_f35e_11eb_807c_708bcd596adfrow2_col0\" class=\"data row2 col0\" >Kent</td>\n",
       "                        <td id=\"T_67f7547d_f35e_11eb_807c_708bcd596adfrow2_col1\" class=\"data row2 col1\" >60072</td>\n",
       "                        <td id=\"T_67f7547d_f35e_11eb_807c_708bcd596adfrow2_col2\" class=\"data row2 col2\" >27801</td>\n",
       "                        <td id=\"T_67f7547d_f35e_11eb_807c_708bcd596adfrow2_col3\" class=\"data row2 col3\" >31.637704</td>\n",
       "            </tr>\n",
       "            <tr>\n",
       "                                <td id=\"T_67f7547d_f35e_11eb_807c_708bcd596adfrow3_col0\" class=\"data row3 col0\" >Southend-on-Sea</td>\n",
       "                        <td id=\"T_67f7547d_f35e_11eb_807c_708bcd596adfrow3_col1\" class=\"data row3 col1\" >7830</td>\n",
       "                        <td id=\"T_67f7547d_f35e_11eb_807c_708bcd596adfrow3_col2\" class=\"data row3 col2\" >3607</td>\n",
       "                        <td id=\"T_67f7547d_f35e_11eb_807c_708bcd596adfrow3_col3\" class=\"data row3 col3\" >31.537991</td>\n",
       "            </tr>\n",
       "            <tr>\n",
       "                                <td id=\"T_67f7547d_f35e_11eb_807c_708bcd596adfrow4_col0\" class=\"data row4 col0\" >Medway</td>\n",
       "                        <td id=\"T_67f7547d_f35e_11eb_807c_708bcd596adfrow4_col1\" class=\"data row4 col1\" >11750</td>\n",
       "                        <td id=\"T_67f7547d_f35e_11eb_807c_708bcd596adfrow4_col2\" class=\"data row4 col2\" >5262</td>\n",
       "                        <td id=\"T_67f7547d_f35e_11eb_807c_708bcd596adfrow4_col3\" class=\"data row4 col3\" >30.931107</td>\n",
       "            </tr>\n",
       "            <tr>\n",
       "                                <td id=\"T_67f7547d_f35e_11eb_807c_708bcd596adfrow5_col0\" class=\"data row5 col0\" >Torbay</td>\n",
       "                        <td id=\"T_67f7547d_f35e_11eb_807c_708bcd596adfrow5_col1\" class=\"data row5 col1\" >5411</td>\n",
       "                        <td id=\"T_67f7547d_f35e_11eb_807c_708bcd596adfrow5_col2\" class=\"data row5 col2\" >2322</td>\n",
       "                        <td id=\"T_67f7547d_f35e_11eb_807c_708bcd596adfrow5_col3\" class=\"data row5 col3\" >30.027156</td>\n",
       "            </tr>\n",
       "            <tr>\n",
       "                                <td id=\"T_67f7547d_f35e_11eb_807c_708bcd596adfrow6_col0\" class=\"data row6 col0\" >Wirral</td>\n",
       "                        <td id=\"T_67f7547d_f35e_11eb_807c_708bcd596adfrow6_col1\" class=\"data row6 col1\" >13159</td>\n",
       "                        <td id=\"T_67f7547d_f35e_11eb_807c_708bcd596adfrow6_col2\" class=\"data row6 col2\" >5272</td>\n",
       "                        <td id=\"T_67f7547d_f35e_11eb_807c_708bcd596adfrow6_col3\" class=\"data row6 col3\" >28.603982</td>\n",
       "            </tr>\n",
       "            <tr>\n",
       "                                <td id=\"T_67f7547d_f35e_11eb_807c_708bcd596adfrow7_col0\" class=\"data row7 col0\" >Sutton</td>\n",
       "                        <td id=\"T_67f7547d_f35e_11eb_807c_708bcd596adfrow7_col1\" class=\"data row7 col1\" >11684</td>\n",
       "                        <td id=\"T_67f7547d_f35e_11eb_807c_708bcd596adfrow7_col2\" class=\"data row7 col2\" >4497</td>\n",
       "                        <td id=\"T_67f7547d_f35e_11eb_807c_708bcd596adfrow7_col3\" class=\"data row7 col3\" >27.791855</td>\n",
       "            </tr>\n",
       "            <tr>\n",
       "                                <td id=\"T_67f7547d_f35e_11eb_807c_708bcd596adfrow8_col0\" class=\"data row8 col0\" >Slough</td>\n",
       "                        <td id=\"T_67f7547d_f35e_11eb_807c_708bcd596adfrow8_col1\" class=\"data row8 col1\" >8586</td>\n",
       "                        <td id=\"T_67f7547d_f35e_11eb_807c_708bcd596adfrow8_col2\" class=\"data row8 col2\" >3105</td>\n",
       "                        <td id=\"T_67f7547d_f35e_11eb_807c_708bcd596adfrow8_col3\" class=\"data row8 col3\" >26.558891</td>\n",
       "            </tr>\n",
       "            <tr>\n",
       "                                <td id=\"T_67f7547d_f35e_11eb_807c_708bcd596adfrow9_col0\" class=\"data row9 col0\" >Lincolnshire</td>\n",
       "                        <td id=\"T_67f7547d_f35e_11eb_807c_708bcd596adfrow9_col1\" class=\"data row9 col1\" >30245</td>\n",
       "                        <td id=\"T_67f7547d_f35e_11eb_807c_708bcd596adfrow9_col2\" class=\"data row9 col2\" >10478</td>\n",
       "                        <td id=\"T_67f7547d_f35e_11eb_807c_708bcd596adfrow9_col3\" class=\"data row9 col3\" >25.729931</td>\n",
       "            </tr>\n",
       "    </tbody></table>"
      ],
      "text/plain": [
       "<pandas.io.formats.style.Styler at 0x2687e33fb50>"
      ]
     },
     "execution_count": 11,
     "metadata": {},
     "output_type": "execute_result"
    }
   ],
   "source": [
    "# Print top 10 Local Authorities with largest proportion of selective school places\n",
    "LA_pivot.head(10).style.hide_index()"
   ]
  },
  {
   "cell_type": "code",
   "execution_count": 12,
   "metadata": {},
   "outputs": [
    {
     "data": {
      "text/html": [
       "<style  type=\"text/css\" >\n",
       "</style><table id=\"T_fdc6c615_f211_11eb_866b_708bcd596adf\" ><thead>    <tr>        <th class=\"col_heading level0 col0\" >Constituency</th>        <th class=\"col_heading level0 col1\" >Non-selective</th>        <th class=\"col_heading level0 col2\" >Selective</th>        <th class=\"col_heading level0 col3\" >PCT_Sel</th>    </tr></thead><tbody>\n",
       "                <tr>\n",
       "                                <td id=\"T_fdc6c615_f211_11eb_866b_708bcd596adfrow0_col0\" class=\"data row0 col0\" >Maidstone and The Weald</td>\n",
       "                        <td id=\"T_fdc6c615_f211_11eb_866b_708bcd596adfrow0_col1\" class=\"data row0 col1\" >4495</td>\n",
       "                        <td id=\"T_fdc6c615_f211_11eb_866b_708bcd596adfrow0_col2\" class=\"data row0 col2\" >4503</td>\n",
       "                        <td id=\"T_fdc6c615_f211_11eb_866b_708bcd596adfrow0_col3\" class=\"data row0 col3\" >50.044454</td>\n",
       "            </tr>\n",
       "            <tr>\n",
       "                                <td id=\"T_fdc6c615_f211_11eb_866b_708bcd596adfrow1_col0\" class=\"data row1 col0\" >Wirral West</td>\n",
       "                        <td id=\"T_fdc6c615_f211_11eb_866b_708bcd596adfrow1_col1\" class=\"data row1 col1\" >3194</td>\n",
       "                        <td id=\"T_fdc6c615_f211_11eb_866b_708bcd596adfrow1_col2\" class=\"data row1 col2\" >2820</td>\n",
       "                        <td id=\"T_fdc6c615_f211_11eb_866b_708bcd596adfrow1_col3\" class=\"data row1 col3\" >46.890589</td>\n",
       "            </tr>\n",
       "            <tr>\n",
       "                                <td id=\"T_fdc6c615_f211_11eb_866b_708bcd596adfrow2_col0\" class=\"data row2 col0\" >Beaconsfield</td>\n",
       "                        <td id=\"T_fdc6c615_f211_11eb_866b_708bcd596adfrow2_col1\" class=\"data row2 col1\" >2996</td>\n",
       "                        <td id=\"T_fdc6c615_f211_11eb_866b_708bcd596adfrow2_col2\" class=\"data row2 col2\" >2473</td>\n",
       "                        <td id=\"T_fdc6c615_f211_11eb_866b_708bcd596adfrow2_col3\" class=\"data row2 col3\" >45.218504</td>\n",
       "            </tr>\n",
       "            <tr>\n",
       "                                <td id=\"T_fdc6c615_f211_11eb_866b_708bcd596adfrow3_col0\" class=\"data row3 col0\" >Tonbridge and Malling</td>\n",
       "                        <td id=\"T_fdc6c615_f211_11eb_866b_708bcd596adfrow3_col1\" class=\"data row3 col1\" >4225</td>\n",
       "                        <td id=\"T_fdc6c615_f211_11eb_866b_708bcd596adfrow3_col2\" class=\"data row3 col2\" >3260</td>\n",
       "                        <td id=\"T_fdc6c615_f211_11eb_866b_708bcd596adfrow3_col3\" class=\"data row3 col3\" >43.553774</td>\n",
       "            </tr>\n",
       "            <tr>\n",
       "                                <td id=\"T_fdc6c615_f211_11eb_866b_708bcd596adfrow4_col0\" class=\"data row4 col0\" >Wycombe</td>\n",
       "                        <td id=\"T_fdc6c615_f211_11eb_866b_708bcd596adfrow4_col1\" class=\"data row4 col1\" >3689</td>\n",
       "                        <td id=\"T_fdc6c615_f211_11eb_866b_708bcd596adfrow4_col2\" class=\"data row4 col2\" >2838</td>\n",
       "                        <td id=\"T_fdc6c615_f211_11eb_866b_708bcd596adfrow4_col3\" class=\"data row4 col3\" >43.480925</td>\n",
       "            </tr>\n",
       "            <tr>\n",
       "                                <td id=\"T_fdc6c615_f211_11eb_866b_708bcd596adfrow5_col0\" class=\"data row5 col0\" >Rochester and Strood</td>\n",
       "                        <td id=\"T_fdc6c615_f211_11eb_866b_708bcd596adfrow5_col1\" class=\"data row5 col1\" >3655</td>\n",
       "                        <td id=\"T_fdc6c615_f211_11eb_866b_708bcd596adfrow5_col2\" class=\"data row5 col2\" >2684</td>\n",
       "                        <td id=\"T_fdc6c615_f211_11eb_866b_708bcd596adfrow5_col3\" class=\"data row5 col3\" >42.341063</td>\n",
       "            </tr>\n",
       "            <tr>\n",
       "                                <td id=\"T_fdc6c615_f211_11eb_866b_708bcd596adfrow6_col0\" class=\"data row6 col0\" >Grantham and Stamford</td>\n",
       "                        <td id=\"T_fdc6c615_f211_11eb_866b_708bcd596adfrow6_col1\" class=\"data row6 col1\" >4126</td>\n",
       "                        <td id=\"T_fdc6c615_f211_11eb_866b_708bcd596adfrow6_col2\" class=\"data row6 col2\" >3005</td>\n",
       "                        <td id=\"T_fdc6c615_f211_11eb_866b_708bcd596adfrow6_col3\" class=\"data row6 col3\" >42.139952</td>\n",
       "            </tr>\n",
       "            <tr>\n",
       "                                <td id=\"T_fdc6c615_f211_11eb_866b_708bcd596adfrow7_col0\" class=\"data row7 col0\" >Plymouth, Sutton and Devonport</td>\n",
       "                        <td id=\"T_fdc6c615_f211_11eb_866b_708bcd596adfrow7_col1\" class=\"data row7 col1\" >2952</td>\n",
       "                        <td id=\"T_fdc6c615_f211_11eb_866b_708bcd596adfrow7_col2\" class=\"data row7 col2\" >2122</td>\n",
       "                        <td id=\"T_fdc6c615_f211_11eb_866b_708bcd596adfrow7_col3\" class=\"data row7 col3\" >41.821048</td>\n",
       "            </tr>\n",
       "            <tr>\n",
       "                                <td id=\"T_fdc6c615_f211_11eb_866b_708bcd596adfrow8_col0\" class=\"data row8 col0\" >Altrincham and Sale West</td>\n",
       "                        <td id=\"T_fdc6c615_f211_11eb_866b_708bcd596adfrow8_col1\" class=\"data row8 col1\" >5459</td>\n",
       "                        <td id=\"T_fdc6c615_f211_11eb_866b_708bcd596adfrow8_col2\" class=\"data row8 col2\" >3591</td>\n",
       "                        <td id=\"T_fdc6c615_f211_11eb_866b_708bcd596adfrow8_col3\" class=\"data row8 col3\" >39.679558</td>\n",
       "            </tr>\n",
       "            <tr>\n",
       "                                <td id=\"T_fdc6c615_f211_11eb_866b_708bcd596adfrow9_col0\" class=\"data row9 col0\" >Southend West</td>\n",
       "                        <td id=\"T_fdc6c615_f211_11eb_866b_708bcd596adfrow9_col1\" class=\"data row9 col1\" >4162</td>\n",
       "                        <td id=\"T_fdc6c615_f211_11eb_866b_708bcd596adfrow9_col2\" class=\"data row9 col2\" >2707</td>\n",
       "                        <td id=\"T_fdc6c615_f211_11eb_866b_708bcd596adfrow9_col3\" class=\"data row9 col3\" >39.408939</td>\n",
       "            </tr>\n",
       "    </tbody></table>"
      ],
      "text/plain": [
       "<pandas.io.formats.style.Styler at 0x24f138d5640>"
      ]
     },
     "execution_count": 12,
     "metadata": {},
     "output_type": "execute_result"
    }
   ],
   "source": [
    "# Print top 10 Parliamentary Constituencies with largest proportion of selective school places\n",
    "PC_pivot.head(10).style.hide_index()"
   ]
  },
  {
   "cell_type": "code",
   "execution_count": null,
   "metadata": {},
   "outputs": [],
   "source": []
  }
 ],
 "metadata": {
  "kernelspec": {
   "display_name": "Python 3",
   "language": "python",
   "name": "python3"
  },
  "language_info": {
   "codemirror_mode": {
    "name": "ipython",
    "version": 3
   },
   "file_extension": ".py",
   "mimetype": "text/x-python",
   "name": "python",
   "nbconvert_exporter": "python",
   "pygments_lexer": "ipython3",
   "version": "3.8.6"
  }
 },
 "nbformat": 4,
 "nbformat_minor": 4
}
